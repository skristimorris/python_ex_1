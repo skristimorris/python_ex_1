{
 "metadata": {
  "language_info": {
   "codemirror_mode": {
    "name": "ipython",
    "version": 3
   },
   "file_extension": ".py",
   "mimetype": "text/x-python",
   "name": "python",
   "nbconvert_exporter": "python",
   "pygments_lexer": "ipython3",
   "version": "3.8.8"
  },
  "orig_nbformat": 2,
  "kernelspec": {
   "name": "python388jvsc74a57bd09c4476201b40bfc589e08e435c0f60a1093be9e76ed4fbd362cd038c079fbf5d",
   "display_name": "Python 3.8.8 64-bit ('base': conda)"
  }
 },
 "nbformat": 4,
 "nbformat_minor": 2,
 "cells": [
  {
   "cell_type": "code",
   "execution_count": 29,
   "metadata": {},
   "outputs": [
    {
     "output_type": "stream",
     "name": "stdout",
     "text": [
      "(2, 3)\n[0, (2, 3)]\n"
     ]
    }
   ],
   "source": [
    "# part 1\n",
    "# task:  L = [0, [], [1,2,3,4], [[5],[6,7]], [8,9,10]]\n",
    "# using both, indexing and slicing on L, assemble and print a new list N that contains:\n",
    "# [0,2,3,[5,6],8,10] \n",
    "# as an example, here's  how i've constructed a similar list X which contains [[2, 3], [10]] from L:\n",
    "#\n",
    "# L = [0, [], [1,2,3,4], [[5],[6,7]], [8,9,10]]\n",
    "# X = [ L[2][1:-1], L[-1][2] ] \n",
    "# print(X)  => [[2, 3], [10]]\n",
    "# You need to do something similar but end up with [0,2,3,[5,6],8,10] instead. One way to work \n",
    "# through this is to break the process down in small steps, store result of each step in a new variable\n",
    "# and use these variables to assemble the final result.\n",
    "\n",
    "#print(\"start of part 1\") # set breakpoint here\n",
    "L = [0, [], [1,2,3,4], [[5],[6,7]], [8,9,10]]\n",
    "#print(L)\n",
    "# your code\n",
    "\n",
    "A = L[0] #index the 0\n",
    "#print(A)\n",
    "\n",
    "#B = L[2][1:3]\n",
    "B = L[2][1]\n",
    "print(B)\n",
    "\n",
    "C = L[3][0],\n",
    "#print(C)\n",
    "DD = L[3][1][:1]\n",
    "#print(DD)\n",
    "D = L[4][0::2]\n",
    "#print(D)\n",
    "N = [A, B]\n",
    "print(N)\n",
    "\n",
    "#print(\"end of 1\") # set breakpoint here "
   ]
  },
  {
   "cell_type": "code",
   "execution_count": null,
   "metadata": {},
   "outputs": [],
   "source": []
  }
 ]
}