{
 "metadata": {
  "language_info": {
   "codemirror_mode": {
    "name": "ipython",
    "version": 3
   },
   "file_extension": ".py",
   "mimetype": "text/x-python",
   "name": "python",
   "nbconvert_exporter": "python",
   "pygments_lexer": "ipython3",
   "version": "3.8.8"
  },
  "orig_nbformat": 2,
  "kernelspec": {
   "name": "python388jvsc74a57bd09c4476201b40bfc589e08e435c0f60a1093be9e76ed4fbd362cd038c079fbf5d",
   "display_name": "Python 3.8.8 64-bit ('base': conda)"
  }
 },
 "nbformat": 4,
 "nbformat_minor": 2,
 "cells": [
  {
   "cell_type": "code",
   "execution_count": 2,
   "metadata": {},
   "outputs": [
    {
     "output_type": "stream",
     "name": "stdout",
     "text": [
      "[0, 2, 3, [5, 6], 8, 10]\n"
     ]
    }
   ],
   "source": [
    "# part 1\n",
    "# task:  L = [0, [], [1,2,3,4], [[5],[6,7]], [8,9,10]]\n",
    "# using both, indexing and slicing on L, assemble and print a new list N that contains:\n",
    "# [0,2,3,[5,6],8,10] \n",
    "# as an example, here's  how i've constructed a similar list X which contains [[2, 3], [10]] from L:\n",
    "#\n",
    "# L = [0, [], [1,2,3,4], [[5],[6,7]], [8,9,10]]\n",
    "# X = [ L[2][1:-1], L[-1][2] ] \n",
    "# print(X)  => [[2, 3], [10]]\n",
    "# You need to do something similar but end up with [0,2,3,[5,6],8,10] instead. One way to work \n",
    "# through this is to break the process down in small steps, store result of each step in a new variable\n",
    "# and use these variables to assemble the final result.\n",
    "\n",
    "#print(\"start of part 1\") # set breakpoint here\n",
    "L = [0, [], [1,2,3,4], [[5],[6,7]], [8,9,10]]\n",
    "#print(L)\n",
    "# your code\n",
    "\n",
    "A = L[0] # index the 0\n",
    "#print(A) # print to verify output\n",
    "\n",
    "#B = L[2][1:3] # output -> [2,3]\n",
    "#B = L[2][1], L[2][2] # output -> (2,3)\n",
    "B = L[2][1] # index the 2 out of [1,2,3,4]\n",
    "#print(B) # print to verify output\n",
    "\n",
    "C = L[2][2] # index the 3 out of [1,2,3,4]\n",
    "#print(C) # print to verify output\n",
    "\n",
    "D = L[3][0] + L[3][1][:1] # index the 5 out of the nested list [[5],[6,7]] and index the 6 which is nested in the nested list then concatenate them together\n",
    "#print(D) # print to verify output\n",
    "\n",
    "E = L[4][0] # index the 8 out of [8,9,10]\n",
    "#print(E) # print to verify output\n",
    "\n",
    "F = L[4][2] # index the 10 out of [8,9,10]\n",
    "#print(F) # print to verify output\n",
    "\n",
    "N = [A, B, C, D, E, F] # set variable N to a list that contains each variable\n",
    "print(N)\n",
    "\n",
    "#print(\"end of 1\") # set breakpoint here "
   ]
  },
  {
   "cell_type": "code",
   "execution_count": 3,
   "metadata": {},
   "outputs": [
    {
     "output_type": "stream",
     "name": "stdout",
     "text": [
      "start of part 2\nThere are 3 sentences:\nPython is an interpreted, high-level, general-purpose programming language.\n Created by Guido van Rossum and first released in 1991, Python's design philosophy emphasizes code readability with its notable use of significant whitespace.\n Its language constructs and object-oriented approach aim to help programmers write clear, logical code for small and large-scale projects.\nend of 2\n"
     ]
    }
   ],
   "source": [
    "# part 2\n",
    "# Task: Break s into sentences (which end in a .), count them and print them out using a loop:\n",
    "# result: (I truncated them with ...)\n",
    "# there are 4 sentences:\n",
    "# Python is an interpreted, high-level, general-purpose programming language\n",
    "#  Created by Guido van Rossum and first released in 1991, Python ...\n",
    "#  Its language constructs and object-oriented approach aim to help programmers ...\n",
    "print(\"start of part 2\") # set breakpoint here\n",
    "s = \"Python is an interpreted, high-level, general-purpose programming language. Created by Guido van Rossum and first released in 1991, Python's design philosophy emphasizes code readability with its notable use of significant whitespace. Its language constructs and object-oriented approach aim to help programmers write clear, logical code for small and large-scale projects.\"\n",
    "# your code here\n",
    "\n",
    "l = s.split(\".\") # split the strings in variable s into sentences at each period and set to variable l\n",
    "l = l[:-1] # remove empty string at end of l by slicing and copying back to l\n",
    "print(\"There are\", len(l), \"sentences:\") # print \"There are 3 sentences:\"\n",
    "for t in l: #for loop to iterate over list l\n",
    "    print(t + \".\") # print each sentence and add a period at the end\n",
    "\n",
    "print(\"end of 2\") # set breakpoint here "
   ]
  },
  {
   "cell_type": "code",
   "execution_count": null,
   "metadata": {},
   "outputs": [],
   "source": [
    "# part 3\n",
    "# Task: \n",
    "# - break s into a list of words (i.e. now separated by space)\n",
    "# - print out the word list (with a loop) so that every 2. word is in full uppercase.\n",
    "# - optionally remove all periods and commas\n",
    "# result:\n",
    "# Python\n",
    "# IS\n",
    "# an\n",
    "# INTERPRETED\n",
    "# high-level\n",
    "# GENERAL-PURPOSE\n",
    "# programming\n",
    "# LANGUAGE\n",
    "print(\"start of part 3\") # set breakpoint here\n",
    "# your code here\n",
    "\n",
    "\n",
    "print(\"end of 3\") # set breakpoint here "
   ]
  }
 ]
}